{
 "cells": [
  {
   "cell_type": "markdown",
   "metadata": {},
   "source": [
    "<img src=\"images/logos/The-Construct-logo-new.png\" width=\"700\">"
   ]
  },
  {
   "cell_type": "markdown",
   "metadata": {},
   "source": [
    "# PRESENTS"
   ]
  },
  {
   "cell_type": "markdown",
   "metadata": {},
   "source": [
    "# ROS Developers Live Class n. 119"
   ]
  },
  {
   "cell_type": "markdown",
   "metadata": {},
   "source": [
    "<img src=\"images/Live-Class-119.jpg\" width=\"650\" />"
   ]
  },
  {
   "cell_type": "markdown",
   "metadata": {},
   "source": [
    "### REQUIREMENTS"
   ]
  },
  {
   "cell_type": "markdown",
   "metadata": {},
   "source": [
    "- **Basics of Linux**. If you don't have that knowledge, [check our FREE online course](https://app.theconstructsim.com/#/Course/40)\n",
    "\n",
    "<img src=\"images/linux_course.png\" width=\"250\">\n",
    "\n",
    "- **C++ Basics**. If you don't have that knowledge, [check our FREE online course](https://app.theconstructsim.com/#/Course/59)\n",
    "\n",
    "<img src=\"images/cpp_course.png\" width=\"250\">\n",
    "\n",
    "- **Python3 Basics**. If you don't have that knowledge, [check our FREE online course](https://app.theconstructsim.com/#/Course/58)\n",
    "\n",
    "<img src=\"images/python3_course.png\" width=\"250\">"
   ]
  },
  {
   "cell_type": "markdown",
   "metadata": {},
   "source": [
    "<!--- **ROS2 Basics (C++)**. If you don't have that knowledge, [check our online course](https://app.theconstructsim.com/#/Course/61)\n",
    "\n",
    "<img src=\"images/ros2-cpp-course.png\" width=\"250\">-->"
   ]
  },
  {
   "cell_type": "markdown",
   "metadata": {},
   "source": [
    "### How to use this ROSject\n",
    "\n",
    "A <a href=\"http://rosjects.com\">**ROSject**</a> is a **ROS project** packaged in such a way that all the material it contains (**ROS code, Gazebo simulations and Notebooks**) can be shared with any body **using only a web link**. That is what we did with all the attendants to the Live Class, we shared this ROSject with them (so they can have access to all the ROS material they contain).\n",
    "\n",
    "**Check <a href=\"https://youtu.be/g2Zg31pc-XM\">this Live Class video</a> to learn more about ROSjects and how to create your own ROSjects**.\n",
    "\n",
    "You will need to have a free account at the <a href=\"http://rosds.online\">ROS Development Studio</a> (ROSDS). Get the account and then follow the indications below."
   ]
  },
  {
   "attachments": {
    "open_shell_superapp.png": {
     "image/png": "[encoded data removed]"
    }
   },
   "cell_type": "markdown",
   "metadata": {},
   "source": [
    "## How to Launch the Simulation\n",
    "\n",
    "\n",
    "To start the simulation, first we'll need to source our workspace:\n",
    "\n",
    "- Open a terminal window by clicking on the shell icon on the bottom left side of your screen:\n",
    "![open_shell_superapp.png](attachment:open_shell_superapp.png)\n",
    "\n",
    "- Copy and paste the following terminal commands in your shell:\n"
   ]
  },
  {
   "cell_type": "markdown",
   "metadata": {},
   "source": [
    "<table style=\"float:left;background: #407EAF\">\n",
    "<tr>\n",
    "<th>\n",
    "<p class=\"transparent\">Execute in WebShell #1</p>\n",
    "</th>\n",
    "</tr>\n",
    "</table>"
   ]
  },
  {
   "cell_type": "markdown",
   "metadata": {},
   "source": [
    "- This sets up our environment and launches the simulation. Run the following command on a shell:"
   ]
  },
  {
   "cell_type": "code",
   "execution_count": null,
   "metadata": {},
   "outputs": [],
   "source": [
    "$ roslaunch pr2_tc_gazebo main_elephant_person.launch"
   ]
  },
  {
   "attachments": {
    "gazebo_superapp.png": {
     "image/png": "[encoded data removed]"
    }
   },
   "cell_type": "markdown",
   "metadata": {},
   "source": [
    "And that's it! You should be able to see the simulation and control everything as if it was the real robot if you go to the Gazebo button in the bottom left side of your screen:\n",
    "![gazebo_superapp.png](attachment:gazebo_superapp.png)\n",
    "\n",
    "\n",
    "**Wait around 30 seconds maximum** for the simulaion to start and you should see this simulation now:\n",
    "\n",
    "\n",
    "<img src=\"images/elephant-sim.png\" width=\"600\" />"
   ]
  },
  {
   "cell_type": "markdown",
   "metadata": {},
   "source": [
    "<div>\n",
    "    <h2 class=\"text-center\">\n",
    "        <span class=\"text-primary\">Live Class 119</span>\n",
    "        &nbsp;\n",
    "        <span class=\"\">YOLO Object Detection</span>\n",
    "    </h2>\n",
    "</div>"
   ]
  },
  {
   "cell_type": "markdown",
   "metadata": {},
   "source": [
    "#### This ROSject has been created by Miguel Angel Rodríguez and Alberto Ezquerro"
   ]
  },
  {
   "cell_type": "markdown",
   "metadata": {},
   "source": [
    "### What is YOLO?"
   ]
  },
  {
   "cell_type": "markdown",
   "metadata": {},
   "source": [
    "You Only Look Once (YOLO) is a state-of-the-art, real-time object detection system. One of its advantages is that it's extremely fast and accurate."
   ]
  },
  {
   "cell_type": "markdown",
   "metadata": {},
   "source": [
    "There are many Deep Learning libraries available. You probably have heard about:\n",
    "**Keras, Tensorflow, and Darknet**.\n",
    "\n",
    "Here we will use **Darknet** because it has implemented YOLOv3, which is an object detection model. It's really fast, specially when using it in a CUDA capable system. It's meant to do real-time detections, which for robotics is quite important."
   ]
  },
  {
   "cell_type": "markdown",
   "metadata": {},
   "source": [
    "### What is Darknet?"
   ]
  },
  {
   "cell_type": "markdown",
   "metadata": {},
   "source": [
    "Darknet is an open source neural network framework written in C and CUDA. It is fast, easy to install, and supports CPU and GPU computation."
   ]
  },
  {
   "cell_type": "markdown",
   "metadata": {},
   "source": [
    "<img src=\"images/perception_unit3_yolo_intro.png\"/>"
   ]
  },
  {
   "cell_type": "markdown",
   "metadata": {},
   "source": [
    "<div>\n",
    "    <h3 class=\"text-center\">\n",
    "        <span class=\"text-primary\">1</span>\n",
    "        &nbsp;\n",
    "        <span class=\"\">2D Yolo Detections</span>\n",
    "    </h3>\n",
    "</div>"
   ]
  },
  {
   "cell_type": "markdown",
   "metadata": {},
   "source": [
    "First of all, let's create our package:"
   ]
  },
  {
   "cell_type": "markdown",
   "metadata": {},
   "source": [
    "<span class=\"badge badge-pill badge-primary\">\n",
    "    <i class=\"fa fa-play\"></i>\n",
    "    &nbsp;\n",
    "    Execute in Shell #1\n",
    "</span>"
   ]
  },
  {
   "cell_type": "code",
   "execution_count": null,
   "metadata": {},
   "outputs": [],
   "source": [
    "$ cd ~/catkin_ws/src\n",
    "$ catkin_create_pkg my_object_recognition_pkg rospy"
   ]
  },
  {
   "cell_type": "markdown",
   "metadata": {},
   "source": [
    "We will first start by creating our own launches that use a version of **yolo** adapted for ROS:"
   ]
  },
  {
   "cell_type": "markdown",
   "metadata": {},
   "source": [
    "<span class=\"badge badge-pill badge-primary\">\n",
    "    <i class=\"fa fa-play\"></i>\n",
    "    &nbsp;\n",
    "    Execute in Shell #1\n",
    "</span>"
   ]
  },
  {
   "cell_type": "code",
   "execution_count": null,
   "metadata": {},
   "outputs": [],
   "source": [
    "$ roscd my_object_recognition_pkg\n",
    "$ touch launch/yolo_v2_tiny.launch"
   ]
  },
  {
   "cell_type": "markdown",
   "metadata": {},
   "source": [
    "<div class=\"bg-danger text-center\">\n",
    "    - yolo_v2_tiny.launch -\n",
    "</div>"
   ]
  },
  {
   "cell_type": "code",
   "execution_count": null,
   "metadata": {},
   "outputs": [],
   "source": [
    "<?xml version=\"1.0\" encoding=\"utf-8\"?>\n",
    "\n",
    "<launch>\n",
    "  \n",
    "  <!-- Use YOLOv3 -->\n",
    "  <arg name=\"network_param_file\"         default=\"$(find darknet_ros)/config/yolov2-tiny.yaml\"/>\n",
    "  <arg name=\"image\" default=\"/camera/rgb/image_raw\" />\n",
    "\n",
    "\n",
    "  <!-- Include main launch file -->\n",
    "  <include file=\"$(find darknet_ros)/launch/darknet_ros.launch\">\n",
    "    <arg name=\"network_param_file\"    value=\"$(arg network_param_file)\"/>\n",
    "    <arg name=\"image\" value=\"$(arg image)\" />\n",
    "  </include>\n",
    "\n",
    "</launch>"
   ]
  },
  {
   "cell_type": "markdown",
   "metadata": {},
   "source": [
    "That simple. So lets have a look at some of the parameters:"
   ]
  },
  {
   "cell_type": "code",
   "execution_count": null,
   "metadata": {},
   "outputs": [],
   "source": [
    "<arg name=\"image\" default=\"/camera/rgb/image_raw\" />"
   ]
  },
  {
   "cell_type": "markdown",
   "metadata": {},
   "source": [
    "Here we set the input **RGB ROS camera topic**. Its the most important and really the only parameter you will need to change."
   ]
  },
  {
   "cell_type": "code",
   "execution_count": null,
   "metadata": {},
   "outputs": [],
   "source": [
    "<arg name=\"network_param_file\"         default=\"$(find darknet_ros)/config/yolov3.yaml\"/>"
   ]
  },
  {
   "cell_type": "markdown",
   "metadata": {},
   "source": [
    "**Yolo** has different versions: V2, V3 and V4. Each one works with different OpenCV libraries and works in theory better with eahc new version. \n",
    "\n",
    "We will use in this unit **V2-tiny** ( a fatser version ) because of the low impact it has in the system and fast performance."
   ]
  },
  {
   "cell_type": "markdown",
   "metadata": {},
   "source": [
    "The rest of the code is installed already in the system. If you want to access this version, you just have to download it from our git: <a href=\"https://bitbucket.org/theconstructcore/yolo_tc/src/master/\" />Yolo ROS TheConstruct</a>. If you want the original source have a look at these gits:\n",
    "\n",
    "* <a href=\"https://github.com/Tossy0423/yolov4-for-darknet_ros\"/>YOLO Darknet ROS</a>\n",
    "* <a href=\"https://github.com/Tossy0423/darknet_ros/tree/020b7560f9c5901605503bb59450ed7654514e9c\"/>Darknet ROS</a>\n",
    "* <a href=\"https://github.com/leggedrobotics/darknet_ros\"/>Original Source Git</a>"
   ]
  },
  {
   "cell_type": "markdown",
   "metadata": {},
   "source": [
    "Lets start the launch and see the output:"
   ]
  },
  {
   "cell_type": "markdown",
   "metadata": {},
   "source": [
    "<span class=\"badge badge-pill badge-primary\">\n",
    "    <i class=\"fa fa-play\"></i>\n",
    "    &nbsp;\n",
    "    Execute in WebShell #1\n",
    "</span>"
   ]
  },
  {
   "cell_type": "code",
   "execution_count": null,
   "metadata": {},
   "outputs": [],
   "source": [
    "# Set variables only for this course, locally you wont need it\n",
    "$ QT_X11_NO_MITSHM=1\n",
    "$ echo $QT_X11_NO_MITSHM\n",
    "# Start yolo V2-tiny\n",
    "$ roslaunch my_object_recognition_pkg yolo_v2_tiny.launch"
   ]
  },
  {
   "cell_type": "markdown",
   "metadata": {},
   "source": [
    "**NOTE**: The first time launching it, it might give a **GTK error**. <a href=\"https://en.wikipedia.org/wiki/Don%27t_Panic:_The_Official_Hitchhiker%27s_Guide_to_the_Galaxy_Companion\"/>DON'T PANIC</a>, relaunch again and it should work perfectly. "
   ]
  },
  {
   "cell_type": "markdown",
   "metadata": {},
   "source": [
    "Move Pr2 Around to see how it detects the different objects around:"
   ]
  },
  {
   "cell_type": "markdown",
   "metadata": {},
   "source": [
    "<span class=\"badge badge-pill badge-primary\">\n",
    "    <i class=\"fa fa-play\"></i>\n",
    "    &nbsp;\n",
    "    Execute in WebShell #2\n",
    "</span>"
   ]
  },
  {
   "cell_type": "code",
   "execution_count": null,
   "metadata": {},
   "outputs": [],
   "source": [
    "roslaunch pr2_tc_teleop keyboard_teleop.launch"
   ]
  },
  {
   "cell_type": "markdown",
   "metadata": {},
   "source": [
    "Open the Graphical Tools to be able see the detections of the yolo system:"
   ]
  },
  {
   "cell_type": "markdown",
   "metadata": {},
   "source": [
    "<img src=\"images/font-awesome_desktop.png\">"
   ]
  },
  {
   "cell_type": "markdown",
   "metadata": {},
   "source": [
    "You will see that in this unit, **RVIZ is not prelaunched**. Bu you just have to launch RVIZ in a new terminal. But in this exmaple its not necessary."
   ]
  },
  {
   "cell_type": "markdown",
   "metadata": {},
   "source": [
    "You should now see something like this:"
   ]
  },
  {
   "cell_type": "markdown",
   "metadata": {},
   "source": [
    "<img src=\"images/perception_unit3_yolo_tiny_gui_result.png\"/>"
   ]
  },
  {
   "cell_type": "markdown",
   "metadata": {},
   "source": [
    "<div>\n",
    "    <h3 class=\"text-center\">\n",
    "        <span class=\"text-primary\">2</span>\n",
    "        &nbsp;\n",
    "        <span class=\"\">3D Object detectin and location with Yolo</span>\n",
    "    </h3>\n",
    "</div>"
   ]
  },
  {
   "cell_type": "markdown",
   "metadata": {},
   "source": [
    "This <a href=\"https://github.com/IntelligentRoboticsLabs/gb_visual_detection_3d/\">Darknet_ROS_3D</a>, created by <a href=\"https://gsyc.urjc.es/~fmartin/\"/>Francisco Martin</a>, used darknet_ros in conjunction with **pointcloud data** to match the detections to 3D space, an dtherefore be able to locate more or less where the detected object is in 3D space.\n",
    "\n",
    "This is absolutely vital for **grapsing** , **autonomous navigation** and many other aplicatons.\n",
    "\n",
    "The version used in this course was modified to work in **noetic** : <a href=\"https://bitbucket.org/theconstructcore/yolo_tc/src/master/\" />Yolo ROS TheConstruct</a>"
   ]
  },
  {
   "cell_type": "markdown",
   "metadata": {},
   "source": [
    "<span class=\"badge badge-pill badge-primary\">\n",
    "    <i class=\"fa fa-play\"></i>\n",
    "    &nbsp;\n",
    "    Execute in Shell #1\n",
    "</span>"
   ]
  },
  {
   "cell_type": "code",
   "execution_count": null,
   "metadata": {},
   "outputs": [],
   "source": [
    "$ roscd my_object_recognition_pkg\n",
    "$ touch config/darknet_3d.yaml\n",
    "$ touch launch/darknet_ros_3d.launch"
   ]
  },
  {
   "cell_type": "markdown",
   "metadata": {},
   "source": [
    "<div class=\"bg-danger text-center\">\n",
    "    - darknet_ros_3d.launch -\n",
    "</div>"
   ]
  },
  {
   "cell_type": "code",
   "execution_count": null,
   "metadata": {},
   "outputs": [],
   "source": [
    "<launch>\n",
    "\n",
    "  <!-- Config camera image topic  -->\n",
    "  <arg name=\"camera_rgb_topic\" default=\"/camera/rgb/image_raw\" />\n",
    "\n",
    "  <!-- Console launch prefix -->\n",
    "  <arg name=\"launch_prefix\" default=\"\"/>\n",
    "\n",
    "  <!-- Config and weights folder. -->\n",
    "  <arg name=\"yolo_weights_path\"          default=\"$(find darknet_ros)/yolo_network_config/weights\"/>\n",
    "  <arg name=\"yolo_config_path\"           default=\"$(find darknet_ros)/yolo_network_config/cfg\"/>\n",
    "\n",
    "  <!-- ROS and network parameter files -->\n",
    "  <arg name=\"ros_param_file\"             default=\"$(find darknet_ros)/config/ros.yaml\"/>\n",
    "  <arg name=\"network_param_file\"         default=\"$(find darknet_ros)/config/yolov2-tiny.yaml\"/>\n",
    "\n",
    "  <!-- Load parameters -->\n",
    "  <rosparam command=\"load\" ns=\"darknet_ros\" file=\"$(arg network_param_file)\"/>\n",
    "  <rosparam command=\"load\" file=\"$(find darknet_ros)/config/ros.yaml\"/>\n",
    "  <param name=\"darknet_ros/subscribers/camera_reading/topic\" type=\"string\" value=\"$(arg camera_rgb_topic)\" />\n",
    "\n",
    "  <!-- Start darknet and ros wrapper -->\n",
    "  <node pkg=\"darknet_ros\" type=\"darknet_ros\" name=\"darknet_ros\" output=\"screen\" launch-prefix=\"$(arg launch_prefix)\">\n",
    "\n",
    "    <param name=\"weights_path\"          value=\"$(arg yolo_weights_path)\" />\n",
    "    <param name=\"config_path\"           value=\"$(arg yolo_config_path)\" />\n",
    "  </node>\n",
    "\n",
    "  <!-- Start darknet ros 3d -->\n",
    "  <node pkg=\"darknet_ros_3d\" type=\"darknet3d_node\" name=\"darknet_3d\" output=\"screen\">\n",
    "    <rosparam command=\"load\" file=\"$(find my_object_recognition_pkg)/config/darknet_3d.yaml\" />\n",
    "  </node>\n",
    "</launch>"
   ]
  },
  {
   "cell_type": "markdown",
   "metadata": {},
   "source": [
    "<div class=\"bg-danger text-center\">\n",
    "    - darknet_3d.yaml -\n",
    "</div>"
   ]
  },
  {
   "cell_type": "code",
   "execution_count": null,
   "metadata": {},
   "outputs": [],
   "source": [
    "darknet_ros_topic: /darknet_ros/bounding_boxes\n",
    "output_bbx3d_topic: /darknet_ros_3d/bounding_boxes\n",
    "point_cloud_topic: /camera/depth_registered/points\n",
    "working_frame: camera_rgb_optical_frame\n",
    "mininum_detection_thereshold: 0.3\n",
    "minimum_probability: 0.3\n",
    "interested_classes: [\"person\", \"elephant\", \"horse\", \"bottle\", \"toothbrush\", \"traffic light\", \"spoon\", \"scissors\"]"
   ]
  },
  {
   "cell_type": "markdown",
   "metadata": {},
   "source": [
    "Just coment in certain element important to be able to addapt it to any robot or ROS system:"
   ]
  },
  {
   "cell_type": "code",
   "execution_count": null,
   "metadata": {},
   "outputs": [],
   "source": [
    "<arg name=\"camera_rgb_topic\" default=\"/camera/rgb/image_raw\" />"
   ]
  },
  {
   "cell_type": "markdown",
   "metadata": {},
   "source": [
    "We need to set the input **RGB Raw Camera**."
   ]
  },
  {
   "cell_type": "code",
   "execution_count": null,
   "metadata": {},
   "outputs": [],
   "source": [
    "<arg name=\"network_param_file\"         default=\"$(find darknet_ros)/config/yolov2-tiny.yaml\"/>"
   ]
  },
  {
   "cell_type": "markdown",
   "metadata": {},
   "source": [
    "Here we set again, the **V2-Tiny**. Its fast and specially if you want to see point clouds in RVIZ ( which will have a notable effect in your system load ) its the best option."
   ]
  },
  {
   "cell_type": "code",
   "execution_count": null,
   "metadata": {},
   "outputs": [],
   "source": [
    "<rosparam command=\"load\" file=\"$(find my_object_recognition_pkg)/config/darknet_3d.yaml\" />"
   ]
  },
  {
   "cell_type": "markdown",
   "metadata": {},
   "source": [
    "Here we are loading the parameters for the **darknet_3d**. Here we will set the following:\n",
    "* **point_cloud_topic**: This is the ROS topic where your robot is publishing the point cloud data. This is used to make the match between the RGB detection in 2D and the pointcloud data in 3D and generate the bounding boxes in 3D.\n",
    "\n",
    "\n",
    "* **minimum_probability** and **mininum_detection_thereshold**: We set when will we consider a valid detection and generate therefore the bounding boxes.\n",
    "\n",
    "\n",
    "* **interested_classes**: These are the objects that you want to search for. The lower the better because of system load impact. Here we have set **people** and **elephant**.\n",
    "\n",
    "But how do we know which object **YOLO-V2-Tiny** is able to detect? You just have to check this file:"
   ]
  },
  {
   "cell_type": "markdown",
   "metadata": {},
   "source": [
    "<span class=\"badge badge-pill badge-primary\">\n",
    "    <i class=\"fa fa-play\"></i>\n",
    "    &nbsp;\n",
    "    Execute in WebShell #1\n",
    "</span>"
   ]
  },
  {
   "cell_type": "code",
   "execution_count": null,
   "metadata": {},
   "outputs": [],
   "source": [
    "$ roscd darknet_ros/config\n",
    "$ cat yolov2-tiny.yaml"
   ]
  },
  {
   "cell_type": "markdown",
   "metadata": {},
   "source": [
    "Let's start the launch and see the output:"
   ]
  },
  {
   "cell_type": "markdown",
   "metadata": {},
   "source": [
    "<span class=\"badge badge-pill badge-primary\">\n",
    "    <i class=\"fa fa-play\"></i>\n",
    "    &nbsp;\n",
    "    Execute in WebShell #1\n",
    "</span>"
   ]
  },
  {
   "cell_type": "code",
   "execution_count": null,
   "metadata": {},
   "outputs": [],
   "source": [
    "# Set variables only for this course, locally you wont need it\n",
    "$ QT_X11_NO_MITSHM=1\n",
    "$ echo $QT_X11_NO_MITSHM\n",
    "# Start yolo V3\n",
    "$ roslaunch my_object_recognition_pkg darknet_ros_3d.launch"
   ]
  },
  {
   "cell_type": "markdown",
   "metadata": {},
   "source": [
    "And you can now open **RVIZ**, adding a **RobotModel**, **Pointcloud2** and **MarkerArray** ( for visualising the detections). You can also load it from the <a href=\"https://bitbucket.org/theconstructcore/perception_course_solutions/src/noetic/\"/>Perception Course Solutions Git</a>, in **/perception_unit3_solutions/my_object_recognition_pkg/rviz/yolo.rviz**."
   ]
  },
  {
   "cell_type": "markdown",
   "metadata": {},
   "source": [
    "<span class=\"badge badge-pill badge-primary\">\n",
    "    <i class=\"fa fa-play\"></i>\n",
    "    &nbsp;\n",
    "    Execute in WebShell #2\n",
    "</span>"
   ]
  },
  {
   "cell_type": "code",
   "execution_count": null,
   "metadata": {},
   "outputs": [],
   "source": [
    "rviz"
   ]
  },
  {
   "cell_type": "markdown",
   "metadata": {},
   "source": [
    "Open the Graphical Tools:"
   ]
  },
  {
   "cell_type": "markdown",
   "metadata": {},
   "source": [
    "<img src=\"images/font-awesome_desktop.png\">"
   ]
  },
  {
   "cell_type": "markdown",
   "metadata": {},
   "source": [
    "Here is the configuration you should have:"
   ]
  },
  {
   "cell_type": "markdown",
   "metadata": {},
   "source": [
    "<img src=\"images/perception_unit3_part2_yolo_3d_rviz.png\">"
   ]
  },
  {
   "cell_type": "markdown",
   "metadata": {},
   "source": [
    "# If you liked this video, please support us!\n",
    "# Really... we need your support!!!!"
   ]
  },
  {
   "cell_type": "markdown",
   "metadata": {},
   "source": [
    "# How can you support us?\n",
    "## 1. Subscribe to our ROS online academy and become a Master of ROS Development\n",
    "\n",
    "Go to our online academy. There is no faster way and funnier to learn ROS because we use the same\n",
    "method we did here.\n",
    "\n",
    "**We call the 30/70 method**\n",
    "\n",
    "\n",
    "* **30% of the time learning theory**\n",
    "* **70% of the time practicing with simulated robots**"
   ]
  },
  {
   "cell_type": "markdown",
   "metadata": {},
   "source": [
    "<img src=\"images/logos/courses_dashboard_new.png\">"
   ]
  },
  {
   "cell_type": "markdown",
   "metadata": {},
   "source": [
    "### Check it out at http://robotignite.academy"
   ]
  },
  {
   "cell_type": "markdown",
   "metadata": {},
   "source": [
    "## 2. Buy one ROS Developers T-shirt or one of our mugs!"
   ]
  },
  {
   "cell_type": "markdown",
   "metadata": {},
   "source": [
    "<img src=\"images/logos/mugs.jpeg\">"
   ]
  },
  {
   "cell_type": "markdown",
   "metadata": {},
   "source": [
    "<img src=\"images/logos/T-shirts.png\">"
   ]
  },
  {
   "cell_type": "markdown",
   "metadata": {},
   "source": [
    "You can buy them at our Teespring area (https://teespring.com/stores/ros-developers)"
   ]
  },
  {
   "cell_type": "markdown",
   "metadata": {},
   "source": [
    "## 3. Give us a like in Youtube and subscribe to the channel"
   ]
  },
  {
   "cell_type": "markdown",
   "metadata": {},
   "source": [
    "* **Go to our Youtube Channel (https://www.youtube.com/channel/UCt6Lag-vv25fTX3e11mVY1Q) and subscribe (it is free!!!)**\n",
    "* **Give us a like to this video**"
   ]
  },
  {
   "cell_type": "markdown",
   "metadata": {},
   "source": [
    "# KEEP PUSHING YOUR ROS LEARNING WITH PATIENCE AND GOOD HUMOUR!"
   ]
  },
  {
   "cell_type": "markdown",
   "metadata": {},
   "source": [
    "# Build the future, Become a ROS DEVELOPER"
   ]
  }
 ],
 "metadata": {
  "kernelspec": {
   "display_name": "Python 2",
   "language": "python",
   "name": "python2"
  },
  "language_info": {
   "codemirror_mode": {
    "name": "ipython",
    "version": 2
   },
   "file_extension": ".py",
   "mimetype": "text/x-python",
   "name": "python",
   "nbconvert_exporter": "python",
   "pygments_lexer": "ipython2",
   "version": "2.7.16"
  }
 },
 "nbformat": 4,
 "nbformat_minor": 1
}
